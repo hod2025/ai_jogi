{
 "cells": [
  {
   "cell_type": "code",
   "execution_count": 1,
   "id": "1f108677",
   "metadata": {},
   "outputs": [],
   "source": [
    "import pandas as pd"
   ]
  },
  {
   "cell_type": "code",
   "execution_count": 2,
   "id": "4c8be11d",
   "metadata": {},
   "outputs": [],
   "source": [
    "data={'corporation':['YAHOO','YAHOO','MSFT','MSFT','GOOGLE','GOOGLE'],\n",
    "'person':['Sanjay','Chetan','Smiti','Anjali','Shaliendra','Jagrati'], 'sales_in_USD':[100,140,540,670,240,551]}"
   ]
  },
  {
   "cell_type": "code",
   "execution_count": 3,
   "id": "e17d37cc",
   "metadata": {},
   "outputs": [
    {
     "name": "stdout",
     "output_type": "stream",
     "text": [
      "  corporation      person  sales_in_USD\n",
      "0       YAHOO      Sanjay           100\n",
      "1       YAHOO      Chetan           140\n",
      "2        MSFT       Smiti           540\n",
      "3        MSFT      Anjali           670\n",
      "4      GOOGLE  Shaliendra           240\n",
      "5      GOOGLE     Jagrati           551\n"
     ]
    }
   ],
   "source": [
    "df=pd.DataFrame(data) \n",
    "print(df)"
   ]
  },
  {
   "cell_type": "code",
   "execution_count": 4,
   "id": "2695a569",
   "metadata": {},
   "outputs": [
    {
     "name": "stdout",
     "output_type": "stream",
     "text": [
      "<pandas.core.groupby.generic.DataFrameGroupBy object at 0x0000021CC9A6D790>\n"
     ]
    }
   ],
   "source": [
    "print(df.groupby('corporation'))"
   ]
  },
  {
   "cell_type": "code",
   "execution_count": 5,
   "id": "bf47cfac",
   "metadata": {},
   "outputs": [
    {
     "name": "stdout",
     "output_type": "stream",
     "text": [
      "<class 'pandas.core.groupby.generic.DataFrameGroupBy'>\n"
     ]
    }
   ],
   "source": [
    "print(type(df.groupby('corporation')))"
   ]
  },
  {
   "cell_type": "code",
   "execution_count": 6,
   "id": "b3862518",
   "metadata": {},
   "outputs": [],
   "source": [
    "group_data=df.groupby('corporation')"
   ]
  },
  {
   "cell_type": "code",
   "execution_count": 7,
   "id": "92d4123a",
   "metadata": {},
   "outputs": [
    {
     "name": "stdout",
     "output_type": "stream",
     "text": [
      "             sales_in_USD\n",
      "corporation              \n",
      "GOOGLE                791\n",
      "MSFT                 1210\n",
      "YAHOO                 240\n"
     ]
    }
   ],
   "source": [
    "print(group_data.sum())"
   ]
  },
  {
   "cell_type": "code",
   "execution_count": 8,
   "id": "c066a45d",
   "metadata": {},
   "outputs": [
    {
     "name": "stdout",
     "output_type": "stream",
     "text": [
      "             sales_in_USD\n",
      "corporation              \n",
      "GOOGLE              395.5\n",
      "MSFT                605.0\n",
      "YAHOO               120.0\n"
     ]
    }
   ],
   "source": [
    "print(group_data.mean())"
   ]
  },
  {
   "cell_type": "code",
   "execution_count": 9,
   "id": "f8e6cceb",
   "metadata": {},
   "outputs": [
    {
     "name": "stdout",
     "output_type": "stream",
     "text": [
      "             sales_in_USD\n",
      "corporation              \n",
      "GOOGLE         219.910209\n",
      "MSFT            91.923882\n",
      "YAHOO           28.284271\n"
     ]
    }
   ],
   "source": [
    "print(group_data.std())"
   ]
  },
  {
   "cell_type": "code",
   "execution_count": 10,
   "id": "e4540074",
   "metadata": {},
   "outputs": [
    {
     "name": "stdout",
     "output_type": "stream",
     "text": [
      "              person  sales_in_USD\n",
      "corporation                       \n",
      "GOOGLE       Jagrati           240\n",
      "MSFT          Anjali           540\n",
      "YAHOO         Chetan           100\n"
     ]
    }
   ],
   "source": [
    "print(group_data.min())"
   ]
  },
  {
   "cell_type": "code",
   "execution_count": 11,
   "id": "dffee942",
   "metadata": {},
   "outputs": [
    {
     "name": "stdout",
     "output_type": "stream",
     "text": [
      "                 person  sales_in_USD\n",
      "corporation                          \n",
      "GOOGLE       Shaliendra           551\n",
      "MSFT              Smiti           670\n",
      "YAHOO            Sanjay           140\n"
     ]
    }
   ],
   "source": [
    "print(group_data.max())"
   ]
  },
  {
   "cell_type": "code",
   "execution_count": 12,
   "id": "7e8f5f97",
   "metadata": {},
   "outputs": [
    {
     "name": "stdout",
     "output_type": "stream",
     "text": [
      "             person  sales_in_USD\n",
      "corporation                      \n",
      "GOOGLE            2             2\n",
      "MSFT              2             2\n",
      "YAHOO             2             2\n"
     ]
    }
   ],
   "source": [
    "print(group_data.count())"
   ]
  },
  {
   "cell_type": "code",
   "execution_count": 13,
   "id": "920bd425",
   "metadata": {},
   "outputs": [
    {
     "name": "stdout",
     "output_type": "stream",
     "text": [
      "            sales_in_USD                                                   \\\n",
      "                   count   mean         std    min     25%    50%     75%   \n",
      "corporation                                                                 \n",
      "GOOGLE               2.0  395.5  219.910209  240.0  317.75  395.5  473.25   \n",
      "MSFT                 2.0  605.0   91.923882  540.0  572.50  605.0  637.50   \n",
      "YAHOO                2.0  120.0   28.284271  100.0  110.00  120.0  130.00   \n",
      "\n",
      "                    \n",
      "               max  \n",
      "corporation         \n",
      "GOOGLE       551.0  \n",
      "MSFT         670.0  \n",
      "YAHOO        140.0  \n"
     ]
    }
   ],
   "source": [
    "print(group_data.describe())"
   ]
  },
  {
   "cell_type": "code",
   "execution_count": 14,
   "id": "1b07e390",
   "metadata": {},
   "outputs": [
    {
     "name": "stdout",
     "output_type": "stream",
     "text": [
      "corporation             GOOGLE        MSFT       YAHOO\n",
      "sales_in_USD count    2.000000    2.000000    2.000000\n",
      "             mean   395.500000  605.000000  120.000000\n",
      "             std    219.910209   91.923882   28.284271\n",
      "             min    240.000000  540.000000  100.000000\n",
      "             25%    317.750000  572.500000  110.000000\n",
      "             50%    395.500000  605.000000  120.000000\n",
      "             75%    473.250000  637.500000  130.000000\n",
      "             max    551.000000  670.000000  140.000000\n"
     ]
    }
   ],
   "source": [
    "print(group_data.describe().transpose())"
   ]
  },
  {
   "cell_type": "code",
   "execution_count": 15,
   "id": "8ddbc7e9",
   "metadata": {},
   "outputs": [
    {
     "name": "stdout",
     "output_type": "stream",
     "text": [
      "sales_in_USD  count      2.000000\n",
      "              mean     395.500000\n",
      "              std      219.910209\n",
      "              min      240.000000\n",
      "              25%      317.750000\n",
      "              50%      395.500000\n",
      "              75%      473.250000\n",
      "              max      551.000000\n",
      "Name: GOOGLE, dtype: float64\n"
     ]
    }
   ],
   "source": [
    "print(group_data.describe().transpose()['GOOGLE'])"
   ]
  },
  {
   "cell_type": "code",
   "execution_count": null,
   "id": "dea2b087",
   "metadata": {},
   "outputs": [],
   "source": []
  }
 ],
 "metadata": {
  "kernelspec": {
   "display_name": "Python 3",
   "language": "python",
   "name": "python3"
  },
  "language_info": {
   "codemirror_mode": {
    "name": "ipython",
    "version": 3
   },
   "file_extension": ".py",
   "mimetype": "text/x-python",
   "name": "python",
   "nbconvert_exporter": "python",
   "pygments_lexer": "ipython3",
   "version": "3.8.8"
  }
 },
 "nbformat": 4,
 "nbformat_minor": 5
}
